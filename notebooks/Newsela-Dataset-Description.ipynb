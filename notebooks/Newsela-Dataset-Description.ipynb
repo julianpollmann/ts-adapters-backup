{
 "cells": [
  {
   "cell_type": "markdown",
   "id": "0315800f",
   "metadata": {
    "collapsed": false,
    "jupyter": {
     "outputs_hidden": false
    }
   },
   "source": [
    "# Dataset Description Newsela\n",
    "This notebook describes the Newsela dataset. Activate the environment by `conda activate data-description`"
   ]
  },
  {
   "cell_type": "code",
   "execution_count": 1,
   "id": "b556fc00",
   "metadata": {},
   "outputs": [],
   "source": [
    "import math\n",
    "import textstat\n",
    "import locale\n",
    "import pandas as pd\n",
    "import numpy as np\n",
    "import seaborn as sns\n",
    "import matplotlib.pyplot as plt\n",
    "from os import path, getcwd\n",
    "from nltk import sent_tokenize, word_tokenize\n",
    "from util import map_nltk_lang\n",
    "from datasets import load_dataset, Features, Value\n",
    "from easse.fkgl import corpus_fkgl\n",
    "from statistics import mean"
   ]
  },
  {
   "cell_type": "code",
   "execution_count": 2,
   "id": "44efe4b3",
   "metadata": {},
   "outputs": [
    {
     "data": {
      "text/plain": [
       "'en_US.UTF-8'"
      ]
     },
     "execution_count": 2,
     "metadata": {},
     "output_type": "execute_result"
    }
   ],
   "source": [
    "# Config\n",
    "sns.set_theme(style=\"white\", context=\"talk\")\n",
    "sns.set_context('notebook')\n",
    "locale.setlocale(locale.LC_ALL, 'en_US.UTF-8')"
   ]
  },
  {
   "cell_type": "markdown",
   "id": "df238b51",
   "metadata": {},
   "source": [
    "# Load data"
   ]
  },
  {
   "cell_type": "code",
   "execution_count": 3,
   "id": "cc838b39",
   "metadata": {},
   "outputs": [
    {
     "name": "stderr",
     "output_type": "stream",
     "text": [
      "Found cached dataset csv (/home/julez/.cache/huggingface/datasets/csv/newsela-c7e38817ed2ee841/0.0.0/6954658bab30a358235fa864b05cf819af0e179325c740e4bc853bcc7ec513e1)\n"
     ]
    },
    {
     "data": {
      "application/vnd.jupyter.widget-view+json": {
       "model_id": "c99b1a808aaf4a8687ead9bb9bd7f6cf",
       "version_major": 2,
       "version_minor": 0
      },
      "text/plain": [
       "  0%|          | 0/3 [00:00<?, ?it/s]"
      ]
     },
     "metadata": {},
     "output_type": "display_data"
    }
   ],
   "source": [
    "features = Features({\"complex_sent\": Value(\"string\"), \"simple_sent\": Value(\"string\")})\n",
    "ds = load_dataset(\"../src/data/newsela\", features=features)\n",
    "ds = ds.rename_columns({\"complex_sent\": \"src\", 'simple_sent': \"tgt\"})"
   ]
  },
  {
   "cell_type": "code",
   "execution_count": 4,
   "id": "08337e3b",
   "metadata": {},
   "outputs": [],
   "source": [
    "df_train = ds[\"train\"].to_pandas()\n",
    "df_test = ds[\"test\"].to_pandas()\n",
    "df_valid = ds[\"validation\"].to_pandas()"
   ]
  },
  {
   "cell_type": "code",
   "execution_count": 5,
   "id": "f6622516",
   "metadata": {},
   "outputs": [
    {
     "data": {
      "text/html": [
       "<div>\n",
       "<style scoped>\n",
       "    .dataframe tbody tr th:only-of-type {\n",
       "        vertical-align: middle;\n",
       "    }\n",
       "\n",
       "    .dataframe tbody tr th {\n",
       "        vertical-align: top;\n",
       "    }\n",
       "\n",
       "    .dataframe thead th {\n",
       "        text-align: right;\n",
       "    }\n",
       "</style>\n",
       "<table border=\"1\" class=\"dataframe\">\n",
       "  <thead>\n",
       "    <tr style=\"text-align: right;\">\n",
       "      <th></th>\n",
       "      <th>src</th>\n",
       "      <th>tgt</th>\n",
       "    </tr>\n",
       "  </thead>\n",
       "  <tbody>\n",
       "    <tr>\n",
       "      <th>0</th>\n",
       "      <td>It found that eight of the 60 countries with p...</td>\n",
       "      <td>It found that eight of the 60 countries with p...</td>\n",
       "    </tr>\n",
       "    <tr>\n",
       "      <th>1</th>\n",
       "      <td>The 6.3 million figure is around 200,000 fewer...</td>\n",
       "      <td>The 6.3 million deaths in 2013 compares with 6...</td>\n",
       "    </tr>\n",
       "    <tr>\n",
       "      <th>2</th>\n",
       "      <td>How do poor countries take the steps needed to...</td>\n",
       "      <td>How do poor countries take the steps needed to...</td>\n",
       "    </tr>\n",
       "    <tr>\n",
       "      <th>3</th>\n",
       "      <td>In Peru, more women are giving birth in hospit...</td>\n",
       "      <td>In Peru, more women are giving birth in hospit...</td>\n",
       "    </tr>\n",
       "    <tr>\n",
       "      <th>4</th>\n",
       "      <td>\"It is not enough to know where a clinic is.</td>\n",
       "      <td>It's not enough to know where a hospital is, n...</td>\n",
       "    </tr>\n",
       "  </tbody>\n",
       "</table>\n",
       "</div>"
      ],
      "text/plain": [
       "                                                 src  \\\n",
       "0  It found that eight of the 60 countries with p...   \n",
       "1  The 6.3 million figure is around 200,000 fewer...   \n",
       "2  How do poor countries take the steps needed to...   \n",
       "3  In Peru, more women are giving birth in hospit...   \n",
       "4       \"It is not enough to know where a clinic is.   \n",
       "\n",
       "                                                 tgt  \n",
       "0  It found that eight of the 60 countries with p...  \n",
       "1  The 6.3 million deaths in 2013 compares with 6...  \n",
       "2  How do poor countries take the steps needed to...  \n",
       "3  In Peru, more women are giving birth in hospit...  \n",
       "4  It's not enough to know where a hospital is, n...  "
      ]
     },
     "execution_count": 5,
     "metadata": {},
     "output_type": "execute_result"
    }
   ],
   "source": [
    "df_train.head()"
   ]
  },
  {
   "cell_type": "markdown",
   "id": "26bb4593",
   "metadata": {},
   "source": [
    "# Number of Instances"
   ]
  },
  {
   "cell_type": "code",
   "execution_count": 6,
   "id": "14ea4c09",
   "metadata": {},
   "outputs": [],
   "source": [
    "df = pd.concat([df_train, df_test, df_valid], ignore_index=True)"
   ]
  },
  {
   "cell_type": "code",
   "execution_count": 20,
   "id": "beb4515c",
   "metadata": {},
   "outputs": [
    {
     "data": {
      "text/html": [
       "<div>\n",
       "<style scoped>\n",
       "    .dataframe tbody tr th:only-of-type {\n",
       "        vertical-align: middle;\n",
       "    }\n",
       "\n",
       "    .dataframe tbody tr th {\n",
       "        vertical-align: top;\n",
       "    }\n",
       "\n",
       "    .dataframe thead th {\n",
       "        text-align: right;\n",
       "    }\n",
       "</style>\n",
       "<table border=\"1\" class=\"dataframe\">\n",
       "  <thead>\n",
       "    <tr style=\"text-align: right;\">\n",
       "      <th></th>\n",
       "      <th>src</th>\n",
       "      <th>tgt</th>\n",
       "    </tr>\n",
       "  </thead>\n",
       "  <tbody>\n",
       "    <tr>\n",
       "      <th>0</th>\n",
       "      <td>It found that eight of the 60 countries with p...</td>\n",
       "      <td>It found that eight of the 60 countries with p...</td>\n",
       "    </tr>\n",
       "    <tr>\n",
       "      <th>1</th>\n",
       "      <td>The 6.3 million figure is around 200,000 fewer...</td>\n",
       "      <td>The 6.3 million deaths in 2013 compares with 6...</td>\n",
       "    </tr>\n",
       "    <tr>\n",
       "      <th>2</th>\n",
       "      <td>How do poor countries take the steps needed to...</td>\n",
       "      <td>How do poor countries take the steps needed to...</td>\n",
       "    </tr>\n",
       "    <tr>\n",
       "      <th>3</th>\n",
       "      <td>In Peru, more women are giving birth in hospit...</td>\n",
       "      <td>In Peru, more women are giving birth in hospit...</td>\n",
       "    </tr>\n",
       "    <tr>\n",
       "      <th>4</th>\n",
       "      <td>\"It is not enough to know where a clinic is.</td>\n",
       "      <td>It's not enough to know where a hospital is, n...</td>\n",
       "    </tr>\n",
       "    <tr>\n",
       "      <th>...</th>\n",
       "      <td>...</td>\n",
       "      <td>...</td>\n",
       "    </tr>\n",
       "    <tr>\n",
       "      <th>299226</th>\n",
       "      <td>Only Taylor Swift's \"1989\" and the \"Frozen\" so...</td>\n",
       "      <td>Only Taylor Swift's \"1989\" and the \"Frozen\" so...</td>\n",
       "    </tr>\n",
       "    <tr>\n",
       "      <th>299227</th>\n",
       "      <td>Katy Perry's \"Prism\" album also did very well ...</td>\n",
       "      <td>Katy Perry's album \"Prism\" also did very well ...</td>\n",
       "    </tr>\n",
       "    <tr>\n",
       "      <th>299228</th>\n",
       "      <td>He said they showed respect for him and his mu...</td>\n",
       "      <td>He said he liked how Capitol respected him and...</td>\n",
       "    </tr>\n",
       "    <tr>\n",
       "      <th>299229</th>\n",
       "      <td>Smith said it was a done deal when he met with...</td>\n",
       "      <td>It was a done deal when he met Barnett, he said.</td>\n",
       "    </tr>\n",
       "    <tr>\n",
       "      <th>299230</th>\n",
       "      <td>Two years later, Capitol is on a new path.</td>\n",
       "      <td>Two years after he arrived, Capitol is on a ne...</td>\n",
       "    </tr>\n",
       "  </tbody>\n",
       "</table>\n",
       "<p>299231 rows × 2 columns</p>\n",
       "</div>"
      ],
      "text/plain": [
       "                                                      src  \\\n",
       "0       It found that eight of the 60 countries with p...   \n",
       "1       The 6.3 million figure is around 200,000 fewer...   \n",
       "2       How do poor countries take the steps needed to...   \n",
       "3       In Peru, more women are giving birth in hospit...   \n",
       "4            \"It is not enough to know where a clinic is.   \n",
       "...                                                   ...   \n",
       "299226  Only Taylor Swift's \"1989\" and the \"Frozen\" so...   \n",
       "299227  Katy Perry's \"Prism\" album also did very well ...   \n",
       "299228  He said they showed respect for him and his mu...   \n",
       "299229  Smith said it was a done deal when he met with...   \n",
       "299230         Two years later, Capitol is on a new path.   \n",
       "\n",
       "                                                      tgt  \n",
       "0       It found that eight of the 60 countries with p...  \n",
       "1       The 6.3 million deaths in 2013 compares with 6...  \n",
       "2       How do poor countries take the steps needed to...  \n",
       "3       In Peru, more women are giving birth in hospit...  \n",
       "4       It's not enough to know where a hospital is, n...  \n",
       "...                                                   ...  \n",
       "299226  Only Taylor Swift's \"1989\" and the \"Frozen\" so...  \n",
       "299227  Katy Perry's album \"Prism\" also did very well ...  \n",
       "299228  He said he liked how Capitol respected him and...  \n",
       "299229   It was a done deal when he met Barnett, he said.  \n",
       "299230  Two years after he arrived, Capitol is on a ne...  \n",
       "\n",
       "[299231 rows x 2 columns]"
      ]
     },
     "execution_count": 20,
     "metadata": {},
     "output_type": "execute_result"
    }
   ],
   "source": [
    "df"
   ]
  },
  {
   "cell_type": "code",
   "execution_count": 22,
   "id": "786a44e9",
   "metadata": {},
   "outputs": [
    {
     "data": {
      "image/png": "[encoded data removed]",
      "text/plain": [
       "<Figure size 640x480 with 1 Axes>"
      ]
     },
     "metadata": {},
     "output_type": "display_data"
    }
   ],
   "source": [
    "labels = [\"Train\", \"Test\", \"Validation\"]\n",
    "sizes = [len(df_train.index), len(df_test.index), len(df_valid.index)]\n",
    "\n",
    "def make_autopct(values):\n",
    "    def my_autopct(pct):\n",
    "        total = sum(values)\n",
    "        val = int(round(pct*total/100.0))\n",
    "        return '{p:.2f}%\\n({v:d})'.format(p=pct,v=val)\n",
    "    return my_autopct\n",
    "\n",
    "\n",
    "fig, ax = plt.subplots()       \n",
    "_, _, autotexts = ax.pie(sizes, labels=labels, autopct=make_autopct(sizes))\n",
    "plt.setp(autotexts, size=10, weight=\"bold\", color=\"white\")\n",
    "plt.show()"
   ]
  },
  {
   "cell_type": "markdown",
   "id": "cf7fedda",
   "metadata": {},
   "source": [
    "# Alignments"
   ]
  },
  {
   "cell_type": "code",
   "execution_count": 8,
   "id": "0fbffb20",
   "metadata": {},
   "outputs": [],
   "source": [
    "alignments = {\"1-1\": 0, \"1-n\": 0, \"n-1\": 0}\n",
    "\n",
    "for index, row in df.iterrows():\n",
    "    src_len = len(sent_tokenize(row[\"src\"]))\n",
    "    tgt_len = len(sent_tokenize(row[\"tgt\"]))\n",
    "\n",
    "    if src_len == tgt_len:\n",
    "        alignments[\"1-1\"] += 1\n",
    "        continue\n",
    "        \n",
    "    if src_len < tgt_len:\n",
    "        alignments[\"1-n\"] += 1\n",
    "        continue\n",
    "        \n",
    "    if src_len > tgt_len:\n",
    "        alignments[\"n-1\"] += 1"
   ]
  },
  {
   "cell_type": "code",
   "execution_count": 9,
   "id": "7b5351bb",
   "metadata": {},
   "outputs": [
    {
     "data": {
      "text/plain": [
       "{'1-1': 187428, '1-n': 111219, 'n-1': 584}"
      ]
     },
     "execution_count": 9,
     "metadata": {},
     "output_type": "execute_result"
    }
   ],
   "source": [
    "alignments"
   ]
  },
  {
   "cell_type": "code",
   "execution_count": 10,
   "id": "6a528829",
   "metadata": {},
   "outputs": [
    {
     "data": {
      "image/png": "[encoded data removed]",
      "text/plain": [
       "<Figure size 640x480 with 1 Axes>"
      ]
     },
     "metadata": {},
     "output_type": "display_data"
    }
   ],
   "source": [
    "labels = [\"1-1 (rephrase)\", \"1-n (splits)\", \"n-1 (merges)\"]\n",
    "\n",
    "def make_autopct(values):\n",
    "    def my_autopct(pct):\n",
    "        total = sum(values)\n",
    "        val = int(round(pct*total/100.0))\n",
    "        return '{p:.2f}%\\n({v:d})'.format(p=pct,v=val)\n",
    "    return my_autopct\n",
    "\n",
    "\n",
    "fig, ax = plt.subplots()       \n",
    "_, _, autotexts = ax.pie(list(alignments.values()), labels=labels, autopct=make_autopct(sizes))\n",
    "plt.setp(autotexts, size=10, weight=\"bold\", color=\"white\")\n",
    "plt.show()"
   ]
  },
  {
   "cell_type": "markdown",
   "id": "29c77dec",
   "metadata": {},
   "source": [
    "# Sentece Length"
   ]
  },
  {
   "cell_type": "code",
   "execution_count": 11,
   "id": "1a80acea",
   "metadata": {},
   "outputs": [],
   "source": [
    "sents_data = {\"value\": [\"min\", \"max\", \"avg\", \"min\", \"max\", \"avg\"], \"sents_count\": [], \"origin\": [\"src\", \"src\", \"src\", \"tgt\", \"tgt\", \"tgt\"]}\n",
    "src_sents_len = []\n",
    "tgt_sents_len = []\n",
    "\n",
    "for index, row in df.iterrows():\n",
    "    src_len = len(sent_tokenize(row[\"src\"]))\n",
    "    tgt_len = len(sent_tokenize(row[\"tgt\"]))\n",
    "\n",
    "    src_sents_len.append(src_len)\n",
    "    tgt_sents_len.append(tgt_len)\n",
    "\n",
    "sents_data[\"sents_count\"].append(min(src_sents_len))\n",
    "sents_data[\"sents_count\"].append(max(src_sents_len))\n",
    "sents_data[\"sents_count\"].append(round(mean(src_sents_len), 2))\n",
    "\n",
    "sents_data[\"sents_count\"].append(min(tgt_sents_len))\n",
    "sents_data[\"sents_count\"].append(max(tgt_sents_len))\n",
    "sents_data[\"sents_count\"].append(round(mean(tgt_sents_len), 2))\n",
    "\n",
    "df_sents = pd.DataFrame(data=sents_data)"
   ]
  },
  {
   "cell_type": "code",
   "execution_count": 12,
   "id": "cfaa93b1",
   "metadata": {},
   "outputs": [
    {
     "data": {
      "image/png": "[encoded data removed]",
      "text/plain": [
       "<Figure size 1088.25x500 with 1 Axes>"
      ]
     },
     "metadata": {},
     "output_type": "display_data"
    }
   ],
   "source": [
    "# Sentence length\n",
    "g2 = sns.catplot(\n",
    "    data=df_sents,\n",
    "    kind=\"bar\",\n",
    "    x=\"origin\",\n",
    "    y=\"sents_count\",\n",
    "    hue=\"value\",\n",
    "    errorbar=\"sd\",\n",
    "    height=5,\n",
    "    aspect=2,\n",
    ")\n",
    "g2.despine(left=True)\n",
    "g2.set_axis_labels(\"Source or target sentences\", \"Sentence length\")\n",
    "g2.legend.set_title(\"Count Type\")\n",
    "\n",
    "ax = g2.facet_axis(0, 0)\n",
    "\n",
    "for p in ax.patches:\n",
    "    ax.text(p.get_x() + p.get_width()/2., p.get_height(), '{0:.2f}'.format(p.get_height()), \n",
    "        fontsize=12, ha='center', va='bottom')"
   ]
  },
  {
   "cell_type": "markdown",
   "id": "b617a879",
   "metadata": {},
   "source": [
    "# Token length"
   ]
  },
  {
   "cell_type": "code",
   "execution_count": 13,
   "id": "2294f3f1",
   "metadata": {},
   "outputs": [],
   "source": [
    "token_data = {\"value\": [\"min\", \"max\", \"avg\", \"min\", \"max\", \"avg\"], \"count\": [], \"origin\": [\"src\", \"src\", \"src\", \"tgt\", \"tgt\", \"tgt\"]}\n",
    "src_token_len = []\n",
    "tgt_token_len = []\n",
    "\n",
    "for index, row in df.iterrows():\n",
    "    src_len = len(word_tokenize(row[\"src\"]))\n",
    "    tgt_len = len(word_tokenize(row[\"tgt\"]))\n",
    "\n",
    "    src_token_len.append(src_len)\n",
    "    tgt_token_len.append(tgt_len)\n",
    "\n",
    "token_data[\"count\"].append(min(src_token_len))\n",
    "token_data[\"count\"].append(max(src_token_len))\n",
    "token_data[\"count\"].append(round(mean(src_token_len), 2))\n",
    "\n",
    "token_data[\"count\"].append(min(tgt_token_len))\n",
    "token_data[\"count\"].append(max(tgt_token_len))\n",
    "token_data[\"count\"].append(round(mean(tgt_token_len), 2))\n",
    "\n",
    "df_tokens = pd.DataFrame(data=token_data)"
   ]
  },
  {
   "cell_type": "code",
   "execution_count": 14,
   "id": "e874dde5",
   "metadata": {},
   "outputs": [
    {
     "data": {
      "image/png": "[encoded data removed]",
      "text/plain": [
       "<Figure size 1088.25x500 with 1 Axes>"
      ]
     },
     "metadata": {},
     "output_type": "display_data"
    }
   ],
   "source": [
    "# Token length\n",
    "g3 = sns.catplot(\n",
    "    data=df_tokens,\n",
    "    kind=\"bar\",\n",
    "    x=\"origin\",\n",
    "    y=\"count\",\n",
    "    hue=\"value\",\n",
    "    errorbar=\"sd\",\n",
    "    height=5,\n",
    "    aspect=2,\n",
    ")\n",
    "g3.despine(left=True)\n",
    "g3.set_axis_labels(\"Source or target tokens\", \"Token count\")\n",
    "g3.legend.set_title(\"Count Type\")\n",
    "\n",
    "ax2 = g3.facet_axis(0, 0)\n",
    "\n",
    "for p in ax2.patches:\n",
    "    ax2.text(p.get_x() + p.get_width()/2., p.get_height(), '{0:.2f}'.format(p.get_height()), \n",
    "        fontsize=12, ha='center', va='bottom')"
   ]
  },
  {
   "cell_type": "markdown",
   "id": "4027b74a",
   "metadata": {},
   "source": [
    "# Novelty"
   ]
  },
  {
   "cell_type": "code",
   "execution_count": 15,
   "id": "574e2e22",
   "metadata": {},
   "outputs": [],
   "source": [
    "percentages = []\n",
    "\n",
    "for index, row in df.iterrows():\n",
    "    tgt_token = word_tokenize(row[\"tgt\"])\n",
    "    src_token = word_tokenize(row[\"src\"])\n",
    "\n",
    "    tgt_token = set([x.lower() for x in tgt_token])\n",
    "    src_token = set([x.lower() for x in src_token])\n",
    "\n",
    "    diff = tgt_token.difference(src_token)\n",
    "    percentages.append(len(diff) / len(tgt_token))\n",
    "\n",
    "novelty = round(mean(percentages) * 100, 2)"
   ]
  },
  {
   "cell_type": "code",
   "execution_count": 16,
   "id": "f5652264",
   "metadata": {},
   "outputs": [
    {
     "data": {
      "text/plain": [
       "29.5"
      ]
     },
     "execution_count": 16,
     "metadata": {},
     "output_type": "execute_result"
    }
   ],
   "source": [
    "novelty"
   ]
  },
  {
   "cell_type": "markdown",
   "id": "aecab54e",
   "metadata": {},
   "source": [
    "# FKGL"
   ]
  },
  {
   "cell_type": "code",
   "execution_count": 17,
   "id": "f0a37fa5",
   "metadata": {},
   "outputs": [],
   "source": [
    "data_fkgl = {\n",
    "    \"origin\": [\"src\", \"tgt\"],\n",
    "    \"fkgl\": [corpus_fkgl(df[\"src\"]), corpus_fkgl(df[\"tgt\"])]\n",
    "}\n",
    "df_fkgl = pd.DataFrame(data=data_fkgl)"
   ]
  },
  {
   "cell_type": "code",
   "execution_count": 18,
   "id": "c63a65cd",
   "metadata": {},
   "outputs": [
    {
     "data": {
      "text/html": [
       "<div>\n",
       "<style scoped>\n",
       "    .dataframe tbody tr th:only-of-type {\n",
       "        vertical-align: middle;\n",
       "    }\n",
       "\n",
       "    .dataframe tbody tr th {\n",
       "        vertical-align: top;\n",
       "    }\n",
       "\n",
       "    .dataframe thead th {\n",
       "        text-align: right;\n",
       "    }\n",
       "</style>\n",
       "<table border=\"1\" class=\"dataframe\">\n",
       "  <thead>\n",
       "    <tr style=\"text-align: right;\">\n",
       "      <th></th>\n",
       "      <th>origin</th>\n",
       "      <th>fkgl</th>\n",
       "    </tr>\n",
       "  </thead>\n",
       "  <tbody>\n",
       "    <tr>\n",
       "      <th>0</th>\n",
       "      <td>src</td>\n",
       "      <td>9.344041</td>\n",
       "    </tr>\n",
       "    <tr>\n",
       "      <th>1</th>\n",
       "      <td>tgt</td>\n",
       "      <td>4.790009</td>\n",
       "    </tr>\n",
       "  </tbody>\n",
       "</table>\n",
       "</div>"
      ],
      "text/plain": [
       "  origin      fkgl\n",
       "0    src  9.344041\n",
       "1    tgt  4.790009"
      ]
     },
     "execution_count": 18,
     "metadata": {},
     "output_type": "execute_result"
    }
   ],
   "source": [
    "df_fkgl"
   ]
  },
  {
   "cell_type": "code",
   "execution_count": 19,
   "id": "21a4d3cb",
   "metadata": {},
   "outputs": [
    {
     "data": {
      "text/plain": [
       "[Text(0, 0, '9.34'), Text(0, 0, '4.79')]"
      ]
     },
     "execution_count": 19,
     "metadata": {},
     "output_type": "execute_result"
    },
    {
     "data": {
      "image/png": "[encoded data removed]",
      "text/plain": [
       "<Figure size 640x480 with 1 Axes>"
      ]
     },
     "metadata": {},
     "output_type": "display_data"
    }
   ],
   "source": [
    "ax3 = sns.barplot(data=df_fkgl, x=\"origin\", y=\"fkgl\")\n",
    "labels = [f'{round(df_fkgl.iloc[i, 1], 2)}' for i, v in enumerate(ax3.containers[0])]\n",
    "ax3.bar_label(ax3.containers[0], labels=labels)"
   ]
  }
 ],
 "metadata": {
  "kernelspec": {
   "display_name": "Python 3 (ipykernel)",
   "language": "python",
   "name": "python3"
  },
  "language_info": {
   "codemirror_mode": {
    "name": "ipython",
    "version": 3
   },
   "file_extension": ".py",
   "mimetype": "text/x-python",
   "name": "python",
   "nbconvert_exporter": "python",
   "pygments_lexer": "ipython3",
   "version": "3.10.9"
  }
 },
 "nbformat": 4,
 "nbformat_minor": 5
}
